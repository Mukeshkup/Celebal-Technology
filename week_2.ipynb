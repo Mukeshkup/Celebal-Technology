{
  "nbformat": 4,
  "nbformat_minor": 0,
  "metadata": {
    "colab": {
      "provenance": []
    },
    "kernelspec": {
      "name": "python3",
      "display_name": "Python 3"
    },
    "language_info": {
      "name": "python"
    }
  },
  "cells": [
    {
      "cell_type": "code",
      "source": [
        "class ListNode:\n",
        "    def __init__(self,val):\n",
        "        self.val=val\n",
        "        self.next=None\n",
        "\n",
        "class MyLinkedList:\n",
        "    def __init__(self):\n",
        "        self.head=None\n",
        "\n",
        "    def append(self,val):\n",
        "        new_node=ListNode(val)\n",
        "        if self.head is None:\n",
        "            self.head= new_node\n",
        "            return\n",
        "\n",
        "        node =self.head\n",
        "        while node.next is not None:\n",
        "            node =node.next\n",
        "        node.next= new_node\n",
        "\n",
        "    def show(self):\n",
        "        node =self.head\n",
        "        if not node:\n",
        "            print(\"No elements present in the list\")\n",
        "            return\n",
        "        output=[]\n",
        "        while node:\n",
        "            output.append(str(node.val))\n",
        "            node=node.next\n",
        "        print(\" -> \".join(output))\n",
        "\n",
        "    def remove_nth(self,index):\n",
        "        if index <=0:\n",
        "            raise IndexError(\"Index should start at 1\")\n",
        "\n",
        "        if self.head is None:\n",
        "            raise IndexError(\"Can't delete because list is empty\")\n",
        "\n",
        "        if index ==1:\n",
        "            self.head= self.head.next\n",
        "            return\n",
        "\n",
        "        prev=None\n",
        "        current=self.head\n",
        "        pos =1\n",
        "        while current and pos < index:\n",
        "            prev =current\n",
        "            current= current.next\n",
        "            pos +=1\n",
        "        if current is None:\n",
        "            raise IndexError(f\"Can't remove index {index}, it's outside the list\")\n",
        "        prev.next =current.next"
      ],
      "metadata": {
        "id": "7QjrFsILENdt"
      },
      "execution_count": 16,
      "outputs": []
    },
    {
      "cell_type": "code",
      "source": [
        "my_list = MyLinkedList()\n",
        "\n",
        "print(\"Initial additions:\")\n",
        "for v in [1,2,3,4,5,6,7]:\n",
        "    my_list.append(v)\n",
        "my_list.show()\n",
        "\n",
        "print(\"\\nRemoving item at position 5:\")\n",
        "try:\n",
        "    my_list.remove_nth(5)\n",
        "    my_list.show()\n",
        "except IndexError as err:\n",
        "    print(\"Caught an error:\",err)\n",
        "\n",
        "print(\"\\nTrying to remove a node that's too far\")\n",
        "try:\n",
        "    my_list.remove_nth(10)\n",
        "except IndexError as err:\n",
        "    print(\"Caught an error:\",err)\n",
        "\n",
        "print(\"\\nCleaning out the rest of the list:\")\n",
        "for _ in range(6):\n",
        "    try:\n",
        "        my_list.remove_nth(1)\n",
        "        my_list.show()\n",
        "    except IndexError as err:\n",
        "        print(\"Caught an error:\",err)\n",
        "\n",
        "print(\"\\nTrying from an empty list:\")\n",
        "try:\n",
        "    my_list.remove_nth(1)\n",
        "except IndexError as err:\n",
        "    print(\"Caught an error:\",err)"
      ],
      "metadata": {
        "colab": {
          "base_uri": "https://localhost:8080/"
        },
        "id": "3AR6VyVGEOWf",
        "outputId": "c1124766-e5c3-461c-a7c0-563e19da32da"
      },
      "execution_count": 18,
      "outputs": [
        {
          "output_type": "stream",
          "name": "stdout",
          "text": [
            "Initial additions:\n",
            "1 -> 2 -> 3 -> 4 -> 5 -> 6 -> 7\n",
            "\n",
            "Removing item at position 5:\n",
            "1 -> 2 -> 3 -> 4 -> 6 -> 7\n",
            "\n",
            "Trying to remove a node that's too far\n",
            "Caught an error: Can't remove index 10, it's outside the list\n",
            "\n",
            "Cleaning out the rest of the list:\n",
            "2 -> 3 -> 4 -> 6 -> 7\n",
            "3 -> 4 -> 6 -> 7\n",
            "4 -> 6 -> 7\n",
            "6 -> 7\n",
            "7\n",
            "No elements present in the list\n",
            "\n",
            "Trying from an empty list:\n",
            "Caught an error: Can't delete because list is empty\n"
          ]
        }
      ]
    },
    {
      "cell_type": "code",
      "source": [],
      "metadata": {
        "id": "tw-86iwwHSWY"
      },
      "execution_count": null,
      "outputs": []
    }
  ]
}