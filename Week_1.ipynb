{
  "nbformat": 4,
  "nbformat_minor": 0,
  "metadata": {
    "colab": {
      "provenance": []
    },
    "kernelspec": {
      "name": "python3",
      "display_name": "Python 3"
    },
    "language_info": {
      "name": "python"
    }
  },
  "cells": [
    {
      "cell_type": "markdown",
      "source": [
        "**Week** **1** **Assignment**"
      ],
      "metadata": {
        "id": "7CQW51U1pEiL"
      }
    },
    {
      "cell_type": "code",
      "execution_count": 4,
      "metadata": {
        "colab": {
          "base_uri": "https://localhost:8080/"
        },
        "id": "y0FpO1JyoyRq",
        "outputId": "5aa1014c-316f-4784-fc62-919e71057fdf"
      },
      "outputs": [
        {
          "output_type": "stream",
          "name": "stdout",
          "text": [
            "Lower Triangular Pattern\n",
            "\n",
            "* \n",
            "* * \n",
            "* * * \n",
            "* * * * \n",
            "* * * * * \n"
          ]
        }
      ],
      "source": [
        "print(\"Lower Triangular Pattern\\n\")\n",
        "\n",
        "row = 5\n",
        "\n",
        "for i in range(1,row+1):\n",
        "    print(\"* \" *i)\n"
      ]
    },
    {
      "cell_type": "code",
      "source": [
        "print(\"Upper Triangular Pattern\\n\")\n",
        "\n",
        "for i in range(row,0,-1):\n",
        "    print(\"* \" *i)\n"
      ],
      "metadata": {
        "colab": {
          "base_uri": "https://localhost:8080/"
        },
        "id": "IyML4nC_pOAq",
        "outputId": "1ed6c52e-ab0d-450e-f540-c1a4fd5c4736"
      },
      "execution_count": 3,
      "outputs": [
        {
          "output_type": "stream",
          "name": "stdout",
          "text": [
            "Upper Triangular Pattern\n",
            "\n",
            "* * * * * \n",
            "* * * * \n",
            "* * * \n",
            "* * \n",
            "* \n"
          ]
        }
      ]
    },
    {
      "cell_type": "code",
      "source": [
        "print(\"Pyramid Pattern\\n\")\n",
        "for i in range(1,row+1):\n",
        "    print(\" \"*(row-i)+\"* \" *i)\n"
      ],
      "metadata": {
        "colab": {
          "base_uri": "https://localhost:8080/"
        },
        "id": "IF_NiKsKpOZI",
        "outputId": "13c62c21-396b-412b-8582-f511a7063b61"
      },
      "execution_count": 5,
      "outputs": [
        {
          "output_type": "stream",
          "name": "stdout",
          "text": [
            "Pyramid Pattern\n",
            "\n",
            "    * \n",
            "   * * \n",
            "  * * * \n",
            " * * * * \n",
            "* * * * * \n"
          ]
        }
      ]
    },
    {
      "cell_type": "code",
      "source": [],
      "metadata": {
        "id": "QGy4gmczpo2-"
      },
      "execution_count": null,
      "outputs": []
    }
  ]
}